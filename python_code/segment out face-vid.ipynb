{
 "cells": [
  {
   "cell_type": "code",
   "execution_count": 1,
   "metadata": {
    "collapsed": false
   },
   "outputs": [],
   "source": [
    "%matplotlib inline\n",
    "import cv2\n",
    "import numpy as np\n",
    "from matplotlib import pyplot as plt"
   ]
  },
  {
   "cell_type": "code",
   "execution_count": 4,
   "metadata": {
    "collapsed": false
   },
   "outputs": [],
   "source": [
    "cap = cv2.VideoCapture('purple.avi')\n",
    "fourcc = cv2.VideoWriter_fourcc(*'MJPG')\n",
    "out = cv2.VideoWriter('res.avi',fourcc, 20.0, (640,480))\n",
    "while(cap.isOpened()):\n",
    "    # Capture frame-by-frame\n",
    "    ret, frame = cap.read()\n",
    "\n",
    "    # Our operations on the frame come here\n",
    "    segmented_img = SegmentFace(frame) \n",
    "\n",
    "    # Display the resulting frame\n",
    "    cv2.imshow('result',segmented_img)    \n",
    "    \n",
    "    out.write(segmented_img)\n",
    "    \n",
    "    if cv2.waitKey(1) & 0xFF == ord('q'):\n",
    "        break\n",
    "    \n",
    "    \n",
    "\n",
    "# When everything done, release the capture\n",
    "cap.release()\n",
    "out.release()\n",
    "cv2.destroyAllWindows()"
   ]
  },
  {
   "cell_type": "code",
   "execution_count": 2,
   "metadata": {
    "collapsed": false
   },
   "outputs": [],
   "source": [
    "def SegmentFace(input_img):\n",
    "    smoothed_img = cv2.blur(input_img,(3,3))\n",
    "    roi = smoothed_img[200:300,0:50,:]\n",
    "    hsv_roi = cv2.cvtColor(roi, cv2.COLOR_BGR2HSV)\n",
    "    hsv_img = cv2.cvtColor(smoothed_img,cv2.COLOR_BGR2HSV)\n",
    "    cv2.rectangle(hsv_img,(0,200),(50,300),(255,0,0))\n",
    "    #roihist = cv2.calcHist([hsv_roi],[0, 1], None, [180, 256], [0, 180, 0, 256] )    \n",
    "    roihist = cv2.calcHist([hsv_roi],[0], None, [180], [0,180] )    \n",
    "    cv2.normalize(roihist,roihist,0,255,cv2.NORM_MINMAX)    \n",
    "    #plt.hist(hsv_roi.ravel(),180,[0,180]); plt.show()\n",
    "    #dst = cv2.calcBackProject([hsv_img],[0,1],roihist,[0,180,0,256],1)\n",
    "    dst = cv2.calcBackProject([hsv_img],[0],roihist,[0,180],1)\n",
    "    \n",
    "    disc = cv2.getStructuringElement(cv2.MORPH_ELLIPSE,(7,7))\n",
    "    cv2.filter2D(dst,-1,disc,dst)\n",
    " \n",
    "    # threshold and binary AND\n",
    "    ret,thresh = cv2.threshold(dst,30,255,0)\n",
    "    thresh = 255-thresh\n",
    "    \n",
    "    thresh = cv2.morphologyEx(thresh,cv2.MORPH_OPEN,disc, iterations = 3)\n",
    "    thresh = cv2.morphologyEx(thresh,cv2.MORPH_ERODE,disc, iterations = 1)\n",
    "    \n",
    "    im2, cnts, hierarchy = cv2.findContours(thresh.copy(), cv2.RETR_LIST, cv2.CHAIN_APPROX_SIMPLE)\n",
    "    \n",
    "    \n",
    "    mask = np.zeros(im2.shape[:2], np.uint8)\n",
    "    \n",
    "    cnts = sorted(cnts, key = cv2.contourArea, reverse = True)[:1]\n",
    "    \n",
    "    mask = np.zeros(thresh.shape,np.uint8)\n",
    "    cv2.drawContours(mask,cnts,0,255,-1)\n",
    "    \n",
    "            \n",
    "    #cv2.drawContours(input_img, cnts, -1, (0, 255, 0), 3)\n",
    "    \n",
    "    thresh = cv2.merge((mask,mask,mask))\n",
    "    res = cv2.bitwise_and(thresh,input_img)\n",
    " \n",
    "\n",
    "    return res    "
   ]
  },
  {
   "cell_type": "code",
   "execution_count": 179,
   "metadata": {
    "collapsed": false
   },
   "outputs": [
    {
     "ename": "NameError",
     "evalue": "name 'area' is not defined",
     "output_type": "error",
     "traceback": [
      "\u001b[1;31m---------------------------------------------------------------------------\u001b[0m",
      "\u001b[1;31mNameError\u001b[0m                                 Traceback (most recent call last)",
      "\u001b[1;32m<ipython-input-179-702d7ed67816>\u001b[0m in \u001b[0;36m<module>\u001b[1;34m()\u001b[0m\n\u001b[1;32m----> 1\u001b[1;33m \u001b[0marea\u001b[0m\u001b[1;33m\u001b[0m\u001b[0m\n\u001b[0m",
      "\u001b[1;31mNameError\u001b[0m: name 'area' is not defined"
     ]
    }
   ],
   "source": [
    "ret,thresh = cv2.threshold(dst,10,255,cv2.THRESH_BINARY)  \n",
    "    \n",
    "    im2, contours, hierarchy = cv2.findContours(thresh,cv2.RETR_TREE,cv2.CHAIN_APPROX_SIMPLE)\n",
    "    \n",
    "    #contours,hierarchy = cv2.findContours(thresh, 1, 2)\n",
    "    \n",
    "    largest_contour_size = 0\n",
    "    largest_contour_ind = 0    \n",
    "    for i,cnt in enumerate(contours):\n",
    "        if cv2.contourArea(cnt) > largest_contour_size:\n",
    "            largest_contour_size = cv2.contourArea(cnt)\n",
    "            largest_contour_ind = i\n",
    "    \n",
    "    cv2.drawContours(thresh, [contours[largest_contour_ind]], -1 , (0,255,0), 2)\n",
    "    #kernel = np.ones((5,5),np.uint8)\n",
    "    #disc = cv2.getStructuringElement(cv2.MORPH_ELLIPSE,(5,5))\n",
    "    #thresh = cv2.morphologyEx(thresh,cv2.MORPH_GRADIENT,disc, iterations =3)\n",
    "    #disc = cv2.getStructuringElement(cv2.MORPH_ELLIPSE,(5,5))\n",
    "    #cv2.filter2D(thresh,-1,disc,thresh)\n",
    "    #kernel = np.ones((3,3),np.uint8)\n",
    "    #thresh = cv2.morphologyEx(thresh,cv2.MORPH_ERODE,kernel, iterations = 4)\n",
    "    #thresh = cv2.merge((thresh,thresh,thresh))\n",
    "    #res = cv2.bitwise_and(input_img,thresh)     "
   ]
  },
  {
   "cell_type": "code",
   "execution_count": 132,
   "metadata": {
    "collapsed": false
   },
   "outputs": [
    {
     "ename": "IndentationError",
     "evalue": "unexpected indent (<ipython-input-132-1073e9635e1b>, line 2)",
     "output_type": "error",
     "traceback": [
      "\u001b[1;36m  File \u001b[1;32m\"<ipython-input-132-1073e9635e1b>\"\u001b[1;36m, line \u001b[1;32m2\u001b[0m\n\u001b[1;33m    cv2.filter2D(dst,-1,disc,dst)\u001b[0m\n\u001b[1;37m    ^\u001b[0m\n\u001b[1;31mIndentationError\u001b[0m\u001b[1;31m:\u001b[0m unexpected indent\n"
     ]
    }
   ],
   "source": [
    "disc = cv2.getStructuringElement(cv2.MORPH_ELLIPSE,(20,20))\n",
    "    cv2.filter2D(dst,-1,disc,dst)\n",
    "    #ret,thresh = cv2.threshold(dst,0,255,cv2.THRESH_OTSU) \n",
    "    ret,thresh = cv2.threshold(dst,200,255,cv2.THRESH_BINARY)\n",
    "    kernel = np.ones((3,3),np.uint8)\n",
    "    opening = cv2.morphologyEx(thresh,cv2.MORPH_ERODE,kernel, iterations = 2)\n",
    "    kernel = np.ones((15,15),np.uint8)\n",
    "    opening = cv2.morphologyEx(opening,cv2.MORPH_CLOSE,kernel, iterations = 5)\n",
    "    thresh = 255-opening\n",
    "    thresh = cv2.merge((thresh,thresh,thresh))\n",
    "    res = cv2.bitwise_and(input_img,thresh)"
   ]
  }
 ],
 "metadata": {
  "kernelspec": {
   "display_name": "Python 2",
   "language": "python",
   "name": "python2"
  },
  "language_info": {
   "codemirror_mode": {
    "name": "ipython",
    "version": 2
   },
   "file_extension": ".py",
   "mimetype": "text/x-python",
   "name": "python",
   "nbconvert_exporter": "python",
   "pygments_lexer": "ipython2",
   "version": "2.7.11"
  }
 },
 "nbformat": 4,
 "nbformat_minor": 0
}
