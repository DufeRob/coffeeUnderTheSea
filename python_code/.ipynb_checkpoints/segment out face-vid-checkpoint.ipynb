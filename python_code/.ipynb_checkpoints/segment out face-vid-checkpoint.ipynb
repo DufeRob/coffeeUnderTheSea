{
 "cells": [
  {
   "cell_type": "code",
   "execution_count": 1,
   "metadata": {
    "collapsed": false
   },
   "outputs": [],
   "source": [
    "%matplotlib inline\n",
    "import cv2\n",
    "import numpy as np\n",
    "from matplotlib import pyplot as plt"
   ]
  },
  {
   "cell_type": "code",
   "execution_count": 321,
   "metadata": {
    "collapsed": false
   },
   "outputs": [],
   "source": [
    "# uncomment to load from file\n",
    "cap = cv2.VideoCapture('purple.avi')\n",
    "\n",
    "# uncomment to use camera\n",
    "#cap = cv2.VideoCapture(0)\n",
    "\n",
    "# uncomment to save result\n",
    "# fourcc = cv2.VideoWriter_fourcc(*'MJPG')\n",
    "# out = cv2.VideoWriter('res.avi',fourcc, 20.0, (640,480))\n",
    "\n",
    "while(cap.isOpened()):\n",
    "    # Capture frame-by-frame\n",
    "    ret, frame = cap.read()\n",
    "\n",
    "    # Our operations on the frame come here\n",
    "    segmented_img = my_segment2(frame) \n",
    "\n",
    "    # Display the resulting frame\n",
    "    cv2.imshow('result',segmented_img)    \n",
    "    \n",
    "    # uncomment to save result\n",
    "    #out.write(segmented_img)\n",
    "    \n",
    "    if cv2.waitKey(1) & 0xFF == ord('q'):\n",
    "        break\n",
    "    \n",
    "    \n",
    "\n",
    "# When everything done, release the capture\n",
    "cap.release()\n",
    "\n",
    "# uncomment to save result\n",
    "# out.release()\n",
    "cv2.destroyAllWindows()"
   ]
  },
  {
   "cell_type": "code",
   "execution_count": 320,
   "metadata": {
    "collapsed": false
   },
   "outputs": [],
   "source": [
    "def my_segment2(input_img):        \n",
    "    \n",
    "        \n",
    "    smoothed_img = cv2.blur(input_img,(5,5))\n",
    "    \n",
    "    hsv_img = cv2.cvtColor(smoothed_img, cv2.COLOR_BGR2HSV)\n",
    "    roi = hsv_img[0:100,0:100,:]    \n",
    "    \n",
    "    \n",
    "    \n",
    "    #print np.array([np.min(np.ravel(roi[:,:,i]))  for i in range(3)], dtype=np.uint8)\n",
    "    #print np.array([np.max(np.ravel(roi[:,:,i]))  for i in range(3)], dtype=np.uint8)\n",
    "    \n",
    "    \n",
    "    \n",
    "    #lower_bk = np.array([np.min(np.ravel(roi[:,:,i])) - s[i] for i in range(3)], dtype=np.uint8)\n",
    "    #upper_bk = np.array([np.max(np.ravel(roi[:,:,i])) + s[i] for i in range(3)], dtype=np.uint8)\n",
    "    lower_bk = np.array([0,0,50],dtype=np.uint8)\n",
    "    upper_bk = np.array([180,70,180],dtype=np.uint8)\n",
    "    \n",
    "    # Threshold the HSV image to get only white colors\n",
    "    mask = cv2.inRange(hsv_img, lower_bk, upper_bk)\n",
    "    mask = 255-mask\n",
    "    \n",
    "    disc = cv2.getStructuringElement(cv2.MORPH_ELLIPSE,(7,7))\n",
    "    mask = cv2.morphologyEx(mask,cv2.MORPH_CLOSE,disc, iterations = 5)\n",
    "    \n",
    "    # Bitwise-AND mask and original image    \n",
    "    thresh = cv2.merge((mask,mask,mask))\n",
    "    res = cv2.bitwise_and(thresh,input_img)\n",
    " \n",
    "    \n",
    "    \n",
    "    \n",
    "    return res\n",
    "    "
   ]
  },
  {
   "cell_type": "code",
   "execution_count": 136,
   "metadata": {
    "collapsed": false
   },
   "outputs": [],
   "source": [
    "def SegmentFace(input_img):\n",
    "    smoothed_img = cv2.blur(input_img,(3,3))\n",
    "    roi = smoothed_img[200:300,0:50,:]\n",
    "    hsv_roi = cv2.cvtColor(roi, cv2.COLOR_BGR2HSV)\n",
    "    hsv_img = cv2.cvtColor(smoothed_img,cv2.COLOR_BGR2HSV)\n",
    "    cv2.rectangle(hsv_img,(0,200),(50,300),(255,0,0))\n",
    "    \n",
    "    roihist = cv2.calcHist([hsv_roi],[0], None, [180], [0,180] )    \n",
    "    cv2.normalize(roihist,roihist,0,255,cv2.NORM_MINMAX)    \n",
    "    \n",
    "    dst = cv2.calcBackProject([hsv_img],[0],roihist,[0,180],1)\n",
    "    \n",
    "    disc = cv2.getStructuringElement(cv2.MORPH_ELLIPSE,(7,7))\n",
    "    cv2.filter2D(dst,-1,disc,dst)\n",
    " \n",
    "    # threshold and binary AND\n",
    "    ret,thresh = cv2.threshold(dst,30,255,0)\n",
    "    thresh = 255-thresh\n",
    "    \n",
    "    thresh = cv2.morphologyEx(thresh,cv2.MORPH_OPEN,disc, iterations = 3)\n",
    "    thresh = cv2.morphologyEx(thresh,cv2.MORPH_ERODE,disc, iterations = 1)\n",
    "    \n",
    "    im2, cnts, hierarchy = cv2.findContours(thresh.copy(), cv2.RETR_LIST, cv2.CHAIN_APPROX_SIMPLE)    \n",
    "    \n",
    "    mask = np.zeros(im2.shape[:2], np.uint8)\n",
    "    \n",
    "    cnts = sorted(cnts, key = cv2.contourArea, reverse = True)[:1]\n",
    "    \n",
    "    mask = np.zeros(thresh.shape,np.uint8)\n",
    "    cv2.drawContours(mask,cnts,0,255,-1) \n",
    "    \n",
    "    thresh = cv2.merge((mask,mask,mask))\n",
    "    res = cv2.bitwise_and(thresh,input_img)\n",
    " \n",
    "\n",
    "    return res    "
   ]
  }
 ],
 "metadata": {
  "kernelspec": {
   "display_name": "Python 2",
   "language": "python",
   "name": "python2"
  },
  "language_info": {
   "codemirror_mode": {
    "name": "ipython",
    "version": 2
   },
   "file_extension": ".py",
   "mimetype": "text/x-python",
   "name": "python",
   "nbconvert_exporter": "python",
   "pygments_lexer": "ipython2",
   "version": "2.7.11"
  }
 },
 "nbformat": 4,
 "nbformat_minor": 0
}
